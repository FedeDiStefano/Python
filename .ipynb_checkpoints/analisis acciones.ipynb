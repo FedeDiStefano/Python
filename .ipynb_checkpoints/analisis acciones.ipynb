{
 "cells": [
  {
   "cell_type": "markdown",
   "id": "b3fcbb86",
   "metadata": {},
   "source": [
    "## Analisis acciones\n"
   ]
  },
  {
   "cell_type": "code",
   "execution_count": null,
   "id": "b70cab52",
   "metadata": {},
   "outputs": [],
   "source": [
    "import pandas as pd\n",
    "import matplotlib.pyplot as plt"
   ]
  },
  {
   "cell_type": "code",
   "execution_count": null,
   "id": "af84d343",
   "metadata": {},
   "outputs": [],
   "source": [
    "simbolos = [\"TSLA\", \"AMZN\", \"AAPL\", \"FB\", \"GOOG\"]\n",
    "url = \"https://query1.finance.yahoo.com/v7/finance/download/{}?period1=1613842692&period2=1645378692&interval=1d&events=history&includeAdjustedClose=true\""
   ]
  },
  {
   "cell_type": "code",
   "execution_count": null,
   "id": "cebc1b1a",
   "metadata": {
    "scrolled": true
   },
   "outputs": [],
   "source": [
    "df = pd.DataFrame()"
   ]
  },
  {
   "cell_type": "code",
   "execution_count": 7,
   "id": "64032f48",
   "metadata": {},
   "outputs": [
    {
     "ename": "IndentationError",
     "evalue": "expected an indented block after 'for' statement on line 2 (4113294879.py, line 3)",
     "output_type": "error",
     "traceback": [
      "\u001b[1;36m  Input \u001b[1;32mIn [7]\u001b[1;36m\u001b[0m\n\u001b[1;33m    print: (simbolo)\u001b[0m\n\u001b[1;37m    ^\u001b[0m\n\u001b[1;31mIndentationError\u001b[0m\u001b[1;31m:\u001b[0m expected an indented block after 'for' statement on line 2\n"
     ]
    }
   ],
   "source": [
    "lista_temp = list() \n",
    "for simbolo in simbolos:\n",
    "print: (simbolo)"
   ]
  }
 ],
 "metadata": {
  "kernelspec": {
   "display_name": "Python 3 (ipykernel)",
   "language": "python",
   "name": "python3"
  },
  "language_info": {
   "codemirror_mode": {
    "name": "ipython",
    "version": 3
   },
   "file_extension": ".py",
   "mimetype": "text/x-python",
   "name": "python",
   "nbconvert_exporter": "python",
   "pygments_lexer": "ipython3",
   "version": "3.10.2"
  }
 },
 "nbformat": 4,
 "nbformat_minor": 5
}
